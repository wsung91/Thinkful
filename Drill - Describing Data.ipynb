{
 "cells": [
  {
   "cell_type": "markdown",
   "metadata": {},
   "source": [
    "### Drill - Describing Data"
   ]
  },
  {
   "cell_type": "markdown",
   "metadata": {},
   "source": [
    "### Question 1:\n",
    "- G 14, M 12, P 11, J 10, B 8, O 8, C 6, \n",
    "- Mean -> (14+12+11+10+8+8+6)/7 = 9.857\n",
    "- Median -> 10\n",
    "- Mode -> None\n",
    "- var -> ( (14 - 9.857)^2 + (12-9.857)^2 + (11-9.857)^2 + (10-9.857)^2 + (8-9.857)^2 +(8-9.857)^2 + (6-9.857)^2) / 6 = 7.476 \n",
    "- std -> sqrt(7.476) = 2.734\n",
    "- standard error -> 2.734 /( 7 ** 0.5) = 1.033\n"
   ]
  },
  {
   "cell_type": "code",
   "execution_count": 2,
   "metadata": {},
   "outputs": [
    {
     "name": "stdout",
     "output_type": "stream",
     "text": [
      "             age\n",
      "count   7.000000\n",
      "mean    9.857143\n",
      "std     2.734262\n",
      "min     6.000000\n",
      "25%     8.000000\n",
      "50%    10.000000\n",
      "75%    11.500000\n",
      "max    14.000000\n",
      "Variance : 7.476190476190475\n",
      "Std Error: 1.0334540197243192\n"
     ]
    }
   ],
   "source": [
    "import pandas as pd\n",
    "import numpy as np\n",
    "\n",
    "df = pd.DataFrame()\n",
    "df['age'] = [14, 12, 11, 10, 8, 6, 8]\n",
    "print(df.describe())\n",
    "print(\"Variance : {}\".format(df.age.var()))\n",
    "print(\"Std Error: {}\".format(np.std(df['age'],ddof=1)/np.sqrt(len(df['age']))))"
   ]
  },
  {
   "cell_type": "markdown",
   "metadata": {},
   "source": [
    "### Question 2:\n",
    "- Mean and std. \n",
    "- Value of mean and median were close to each other around 10."
   ]
  },
  {
   "cell_type": "markdown",
   "metadata": {},
   "source": [
    "### Question 3:"
   ]
  },
  {
   "cell_type": "code",
   "execution_count": 10,
   "metadata": {},
   "outputs": [
    {
     "name": "stdout",
     "output_type": "stream",
     "text": [
      "             age\n",
      "count   7.000000\n",
      "mean   10.000000\n",
      "std     2.516611\n",
      "min     7.000000\n",
      "25%     8.000000\n",
      "50%    10.000000\n",
      "75%    11.500000\n",
      "max    14.000000\n",
      "Variance : 6.333333333333333\n",
      "Std Error: 0.9511897312113418\n"
     ]
    }
   ],
   "source": [
    "df_new= pd.DataFrame()\n",
    "df_new['age'] = [14, 12, 11, 10, 8, 7, 8]\n",
    "print(df_new.describe())\n",
    "print(\"Variance : {}\".format(df_new.age.var()))\n",
    "print(\"Std Error: {}\".format(np.std(df_new['age'],ddof=1)/np.sqrt(len(df_new['age']))))"
   ]
  },
  {
   "cell_type": "markdown",
   "metadata": {},
   "source": [
    "- Mean of 10 and std of 2.5, variance decreased and the median of age increased, the std error also decreased"
   ]
  },
  {
   "cell_type": "markdown",
   "metadata": {},
   "source": [
    "### Qustion4:"
   ]
  },
  {
   "cell_type": "code",
   "execution_count": 11,
   "metadata": {},
   "outputs": [
    {
     "name": "stdout",
     "output_type": "stream",
     "text": [
      "             age\n",
      "count   7.000000\n",
      "mean    9.000000\n",
      "std     4.242641\n",
      "min     1.000000\n",
      "25%     7.500000\n",
      "50%    10.000000\n",
      "75%    11.500000\n",
      "max    14.000000\n",
      "Variance : 18.0\n",
      "Std Error: 1.6035674514745462\n"
     ]
    }
   ],
   "source": [
    "df_new2= pd.DataFrame()\n",
    "df_new2['age'] = [14, 12, 11, 10, 8, 7, 1]\n",
    "print(df_new2.describe())\n",
    "print(\"Variance : {}\".format(df_new2.age.var()))\n",
    "print(\"Std Error: {}\".format(np.std(df_new2['age'],ddof=1)/np.sqrt(len(df_new2['age']))))"
   ]
  },
  {
   "cell_type": "markdown",
   "metadata": {},
   "source": [
    "Mean decreased, variance almost tripled but median remains around the same as before"
   ]
  },
  {
   "cell_type": "code",
   "execution_count": 15,
   "metadata": {},
   "outputs": [
    {
     "name": "stdout",
     "output_type": "stream",
     "text": [
      "      magazine  percent of fans\n",
      "0     TV Guide               20\n",
      "1   Ent Weekly               23\n",
      "2  Pop Culture               17\n",
      "       percent of fans\n",
      "count              3.0\n",
      "mean              20.0\n",
      "std                3.0\n",
      "min               17.0\n",
      "25%               18.5\n",
      "50%               20.0\n",
      "75%               21.5\n",
      "max               23.0\n"
     ]
    }
   ],
   "source": [
    "df_survey = pd.DataFrame()\n",
    "df_survey['magazine'] = ['TV Guide', 'Ent Weekly', 'Pop Culture']\n",
    "df_survey['percent of fans'] = [20, 23, 17]\n",
    "#remove SciPhi as doesn't represent the whole population\n",
    "print(df_survey)\n",
    "print(df_survey.describe())"
   ]
  },
  {
   "cell_type": "markdown",
   "metadata": {},
   "source": [
    "- Remove the outlier SciPhi when considering the percentage of American Population, would be around 20%."
   ]
  },
  {
   "cell_type": "code",
   "execution_count": null,
   "metadata": {},
   "outputs": [],
   "source": []
  }
 ],
 "metadata": {
  "kernelspec": {
   "display_name": "Python 3",
   "language": "python",
   "name": "python3"
  },
  "language_info": {
   "codemirror_mode": {
    "name": "ipython",
    "version": 3
   },
   "file_extension": ".py",
   "mimetype": "text/x-python",
   "name": "python",
   "nbconvert_exporter": "python",
   "pygments_lexer": "ipython3",
   "version": "3.7.0"
  }
 },
 "nbformat": 4,
 "nbformat_minor": 2
}
